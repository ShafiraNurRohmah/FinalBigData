{
  "nbformat": 4,
  "nbformat_minor": 0,
  "metadata": {
    "colab": {
      "name": "Shafira_1800018224.ipynb",
      "provenance": [],
      "authorship_tag": "ABX9TyPVdVaAuwYOQ2+pae4kyJ7I",
      "include_colab_link": true
    },
    "kernelspec": {
      "name": "python3",
      "display_name": "Python 3"
    }
  },
  "cells": [
    {
      "cell_type": "markdown",
      "metadata": {
        "id": "view-in-github",
        "colab_type": "text"
      },
      "source": [
        "<a href=\"https://colab.research.google.com/github/ShafiraNurRohmah/FinalBigData/blob/master/Shafira_1800018224.ipynb\" target=\"_parent\"><img src=\"https://colab.research.google.com/assets/colab-badge.svg\" alt=\"Open In Colab\"/></a>"
      ]
    },
    {
      "cell_type": "markdown",
      "metadata": {
        "id": "QTOmnVfkEltb",
        "colab_type": "text"
      },
      "source": [
        "**ANALISA USIA YANG RENTAN TERKENA GANGGUAN KESEHATAN MENTAL**\n",
        "\n",
        "\n",
        "\n",
        "\n",
        "NAMA : SHAFIRA NUR ROHMAH\n",
        "\n",
        "NIM   : 1800018224"
      ]
    },
    {
      "cell_type": "code",
      "metadata": {
        "id": "RWk2E5AADpQH",
        "colab_type": "code",
        "colab": {
          "base_uri": "https://localhost:8080/",
          "height": 280
        },
        "outputId": "e9367d38-6d7a-4779-d6ed-8a6061ec2499"
      },
      "source": [
        "! apt-get install openjdk-8-jdk-headless -qq > /dev/null\n",
        "! wget -q https://downloads.apache.org/spark/spark-2.4.6/spark-2.4.6-bin-hadoop2.7.tgz\n",
        "! tar xf spark-2.4.6-bin-hadoop2.7.tgz\n",
        "! pip install -q findspark\n",
        "! pip install pyspark_dist_explore"
      ],
      "execution_count": 1,
      "outputs": [
        {
          "output_type": "stream",
          "text": [
            "Collecting pyspark_dist_explore\n",
            "  Downloading https://files.pythonhosted.org/packages/3c/33/2b6c29265413f2b56516caf02b8befbb6a79a1a3516d57bf1b0742a1be40/pyspark_dist_explore-0.1.8-py3-none-any.whl\n",
            "Requirement already satisfied: matplotlib in /usr/local/lib/python3.6/dist-packages (from pyspark_dist_explore) (3.2.2)\n",
            "Requirement already satisfied: pandas in /usr/local/lib/python3.6/dist-packages (from pyspark_dist_explore) (1.0.5)\n",
            "Requirement already satisfied: scipy in /usr/local/lib/python3.6/dist-packages (from pyspark_dist_explore) (1.4.1)\n",
            "Requirement already satisfied: numpy in /usr/local/lib/python3.6/dist-packages (from pyspark_dist_explore) (1.18.5)\n",
            "Requirement already satisfied: pyparsing!=2.0.4,!=2.1.2,!=2.1.6,>=2.0.1 in /usr/local/lib/python3.6/dist-packages (from matplotlib->pyspark_dist_explore) (2.4.7)\n",
            "Requirement already satisfied: kiwisolver>=1.0.1 in /usr/local/lib/python3.6/dist-packages (from matplotlib->pyspark_dist_explore) (1.2.0)\n",
            "Requirement already satisfied: python-dateutil>=2.1 in /usr/local/lib/python3.6/dist-packages (from matplotlib->pyspark_dist_explore) (2.8.1)\n",
            "Requirement already satisfied: cycler>=0.10 in /usr/local/lib/python3.6/dist-packages (from matplotlib->pyspark_dist_explore) (0.10.0)\n",
            "Requirement already satisfied: pytz>=2017.2 in /usr/local/lib/python3.6/dist-packages (from pandas->pyspark_dist_explore) (2018.9)\n",
            "Requirement already satisfied: six>=1.5 in /usr/local/lib/python3.6/dist-packages (from python-dateutil>=2.1->matplotlib->pyspark_dist_explore) (1.12.0)\n",
            "Installing collected packages: pyspark-dist-explore\n",
            "Successfully installed pyspark-dist-explore-0.1.8\n"
          ],
          "name": "stdout"
        }
      ]
    },
    {
      "cell_type": "code",
      "metadata": {
        "id": "WblRoIeHE2ME",
        "colab_type": "code",
        "colab": {}
      },
      "source": [
        "import os\n",
        "os.environ[\"JAVA_HOME\"] = \"/usr/lib/jvm/java-8-openjdk-amd64\"\n",
        "os.environ[\"SPARK_HOME\"] = \"/content/spark-2.4.5-bin-hadoop2.7\""
      ],
      "execution_count": 2,
      "outputs": []
    },
    {
      "cell_type": "markdown",
      "metadata": {
        "id": "4VB1Ww-nE7sk",
        "colab_type": "text"
      },
      "source": [
        "**2. IMPORT LIBRARY SPARK YANG SUDAH TERINSTAL**"
      ]
    },
    {
      "cell_type": "code",
      "metadata": {
        "id": "IwUL9145E-og",
        "colab_type": "code",
        "colab": {}
      },
      "source": [
        "import findspark\n",
        "findspark.init(\"spark-2.4.6-bin-hadoop2.7\")# SPARK_HOME\n",
        "from pyspark.sql import SparkSession\n",
        "spark = SparkSession.builder.master(\"local[*]\").getOrCreate()\n",
        "from pyspark.sql.functions import col, avg\n",
        "from matplotlib import pyplot as plt\n",
        "from pyspark_dist_explore import Histogram, hist"
      ],
      "execution_count": 3,
      "outputs": []
    },
    {
      "cell_type": "markdown",
      "metadata": {
        "id": "d-45Qg4qFtNJ",
        "colab_type": "text"
      },
      "source": [
        "**3. INISIALISASI SPARKCONTEXT DAN SPARKSESSION**"
      ]
    },
    {
      "cell_type": "code",
      "metadata": {
        "id": "7it0l6aTFy-I",
        "colab_type": "code",
        "colab": {}
      },
      "source": [
        "sc = spark.sparkContext\n",
        "spark = SparkSession(sc)"
      ],
      "execution_count": 4,
      "outputs": []
    },
    {
      "cell_type": "markdown",
      "metadata": {
        "id": "PO1UzxFXF5du",
        "colab_type": "text"
      },
      "source": [
        "**4. LOAD DATASET**"
      ]
    },
    {
      "cell_type": "code",
      "metadata": {
        "id": "v9jOCVlVF7tJ",
        "colab_type": "code",
        "colab": {
          "base_uri": "https://localhost:8080/",
          "height": 520
        },
        "outputId": "0326c5ac-4913-4618-e14e-32f951fe1a43"
      },
      "source": [
        "survey = spark.read.csv('Penyakit.csv', header=True, inferSchema=True)\n",
        "survey.printSchema()"
      ],
      "execution_count": 5,
      "outputs": [
        {
          "output_type": "stream",
          "text": [
            "root\n",
            " |-- Timestamp: string (nullable = true)\n",
            " |-- Age: integer (nullable = true)\n",
            " |-- Gender: string (nullable = true)\n",
            " |-- Country: string (nullable = true)\n",
            " |-- state: string (nullable = true)\n",
            " |-- self_employed: string (nullable = true)\n",
            " |-- familyhistory: string (nullable = true)\n",
            " |-- treatment: string (nullable = true)\n",
            " |-- work_interfere: string (nullable = true)\n",
            " |-- no_employees: string (nullable = true)\n",
            " |-- remote_work: string (nullable = true)\n",
            " |-- tech_company: string (nullable = true)\n",
            " |-- benefits: string (nullable = true)\n",
            " |-- care_options: string (nullable = true)\n",
            " |-- wellness_program: string (nullable = true)\n",
            " |-- seek_help: string (nullable = true)\n",
            " |-- anonymity: string (nullable = true)\n",
            " |-- leave: string (nullable = true)\n",
            " |-- mental_health_consequence: string (nullable = true)\n",
            " |-- phys_health_consequence: string (nullable = true)\n",
            " |-- coworkers: string (nullable = true)\n",
            " |-- supervisor: string (nullable = true)\n",
            " |-- mental_health_interview: string (nullable = true)\n",
            " |-- phys_health_interview: string (nullable = true)\n",
            " |-- mental_vs_physical: string (nullable = true)\n",
            " |-- obs_consequence: string (nullable = true)\n",
            " |-- comments: string (nullable = true)\n",
            "\n"
          ],
          "name": "stdout"
        }
      ]
    },
    {
      "cell_type": "markdown",
      "metadata": {
        "id": "dhoAOVlmGlh4",
        "colab_type": "text"
      },
      "source": [
        "**4. PROSES EDA**"
      ]
    },
    {
      "cell_type": "code",
      "metadata": {
        "id": "Q1URXeD7Gmjn",
        "colab_type": "code",
        "colab": {
          "base_uri": "https://localhost:8080/",
          "height": 35
        },
        "outputId": "d8f7d6be-6881-4664-a443-e785be1fdbe8"
      },
      "source": [
        "print(\"Total Pasien Gangguan Kesehatan Mental : \", survey.count())"
      ],
      "execution_count": 6,
      "outputs": [
        {
          "output_type": "stream",
          "text": [
            "Total Pasien Gangguan Kesehatan Mental :  1259\n"
          ],
          "name": "stdout"
        }
      ]
    },
    {
      "cell_type": "markdown",
      "metadata": {
        "id": "h289pLX5HAwy",
        "colab_type": "text"
      },
      "source": [
        "melihat 5 data teratas"
      ]
    },
    {
      "cell_type": "code",
      "metadata": {
        "id": "CVOBX6gUHEVV",
        "colab_type": "code",
        "colab": {
          "base_uri": "https://localhost:8080/",
          "height": 228
        },
        "outputId": "ecec5104-a97f-4c52-bdfb-7d67d63a50a7"
      },
      "source": [
        "survey.show(5)"
      ],
      "execution_count": 7,
      "outputs": [
        {
          "output_type": "stream",
          "text": [
            "+---------------+---+------+--------------+-----+-------------+-------------+---------+--------------+--------------+-----------+------------+----------+------------+----------------+----------+----------+------------------+-------------------------+-----------------------+------------+----------+-----------------------+---------------------+------------------+---------------+--------+\n",
            "|      Timestamp|Age|Gender|       Country|state|self_employed|familyhistory|treatment|work_interfere|  no_employees|remote_work|tech_company|  benefits|care_options|wellness_program| seek_help| anonymity|             leave|mental_health_consequence|phys_health_consequence|   coworkers|supervisor|mental_health_interview|phys_health_interview|mental_vs_physical|obs_consequence|comments|\n",
            "+---------------+---+------+--------------+-----+-------------+-------------+---------+--------------+--------------+-----------+------------+----------+------------+----------------+----------+----------+------------------+-------------------------+-----------------------+------------+----------+-----------------------+---------------------+------------------+---------------+--------+\n",
            "|8/27/2014 11:29| 37|Female| United States|   IL|           NA|           No|      Yes|         Often|        25-Jun|         No|         Yes|       Yes|    Not sure|              No|       Yes|       Yes|     Somewhat easy|                       No|                     No|Some of them|       Yes|                     No|                Maybe|               Yes|             No|      NA|\n",
            "|8/27/2014 11:29| 44|     M| United States|   IN|           NA|           No|       No|        Rarely|More than 1000|         No|          No|Don't know|          No|      Don't know|Don't know|Don't know|        Don't know|                    Maybe|                     No|          No|        No|                     No|                   No|        Don't know|             No|      NA|\n",
            "|8/27/2014 11:29| 32|  Male|        Canada|   NA|           NA|           No|       No|        Rarely|        25-Jun|         No|         Yes|        No|          No|              No|        No|Don't know|Somewhat difficult|                       No|                     No|         Yes|       Yes|                    Yes|                  Yes|                No|             No|      NA|\n",
            "|8/27/2014 11:29| 31|  Male|United Kingdom|   NA|           NA|          Yes|      Yes|         Often|        26-100|         No|         Yes|        No|         Yes|              No|        No|        No|Somewhat difficult|                      Yes|                    Yes|Some of them|        No|                  Maybe|                Maybe|                No|            Yes|      NA|\n",
            "|8/27/2014 11:30| 31|  Male| United States|   TX|           NA|           No|       No|         Never|       100-500|        Yes|         Yes|       Yes|          No|      Don't know|Don't know|Don't know|        Don't know|                       No|                     No|Some of them|       Yes|                    Yes|                  Yes|        Don't know|             No|      NA|\n",
            "+---------------+---+------+--------------+-----+-------------+-------------+---------+--------------+--------------+-----------+------------+----------+------------+----------------+----------+----------+------------------+-------------------------+-----------------------+------------+----------+-----------------------+---------------------+------------------+---------------+--------+\n",
            "only showing top 5 rows\n",
            "\n"
          ],
          "name": "stdout"
        }
      ]
    },
    {
      "cell_type": "markdown",
      "metadata": {
        "id": "q7Lk52p_HK6-",
        "colab_type": "text"
      },
      "source": [
        "melihat statistik data pasien pada dataset"
      ]
    },
    {
      "cell_type": "code",
      "metadata": {
        "id": "wGSlvd2OHLvO",
        "colab_type": "code",
        "colab": {
          "base_uri": "https://localhost:8080/",
          "height": 211
        },
        "outputId": "3dfc437c-e3d7-4957-80a8-d44b2b90a43c"
      },
      "source": [
        "survey.describe().show()"
      ],
      "execution_count": 8,
      "outputs": [
        {
          "output_type": "stream",
          "text": [
            "+-------+--------------+------------------+------------------+---------+-----+-------------+-------------+---------+--------------+--------------+-----------+------------+----------+------------+----------------+----------+----------+----------+-------------------------+-----------------------+---------+----------+-----------------------+---------------------+------------------+---------------+--------------------+\n",
            "|summary|     Timestamp|               Age|            Gender|  Country|state|self_employed|familyhistory|treatment|work_interfere|  no_employees|remote_work|tech_company|  benefits|care_options|wellness_program| seek_help| anonymity|     leave|mental_health_consequence|phys_health_consequence|coworkers|supervisor|mental_health_interview|phys_health_interview|mental_vs_physical|obs_consequence|            comments|\n",
            "+-------+--------------+------------------+------------------+---------+-----+-------------+-------------+---------+--------------+--------------+-----------+------------+----------+------------+----------------+----------+----------+----------+-------------------------+-----------------------+---------+----------+-----------------------+---------------------+------------------+---------------+--------------------+\n",
            "|  count|          1259|              1259|              1259|     1259| 1259|         1259|         1259|     1259|          1259|          1259|       1259|        1259|      1259|        1259|            1259|      1259|      1259|      1259|                     1259|                   1259|     1259|      1259|                   1259|                 1259|              1259|           1259|                1259|\n",
            "|   mean|          null|32.004765687053215|              null|     null| null|         null|         null|     null|          null|          null|       null|        null|      null|        null|            null|      null|      null|      null|                     null|                   null|     null|      null|                   null|                 null|              null|           null|                null|\n",
            "| stddev|          null| 7.369207806342997|              null|     null| null|         null|         null|     null|          null|          null|       null|        null|      null|        null|            null|      null|      null|      null|                     null|                   null|     null|      null|                   null|                 null|              null|           null|                null|\n",
            "|    min| 1/3/2015 3:38|                 5|A little about you|Australia|   AL|           NA|           No|       No|            NA|       100-500|         No|          No|Don't know|          No|      Don't know|Don't know|Don't know|Don't know|                    Maybe|                  Maybe|       No|        No|                  Maybe|                Maybe|        Don't know|             No|                    |\n",
            "|    max|9/9/2014 13:49|                72|             woman| Zimbabwe|   WY|          Yes|          Yes|      Yes|     Sometimes|More than 1000|        Yes|         Yes|       Yes|         Yes|             Yes|       Yes|       Yes| Very easy|                      Yes|                    Yes|      Yes|       Yes|                    Yes|                  Yes|               Yes|            Yes|you rock for doin...|\n",
            "+-------+--------------+------------------+------------------+---------+-----+-------------+-------------+---------+--------------+--------------+-----------+------------+----------+------------+----------------+----------+----------+----------+-------------------------+-----------------------+---------+----------+-----------------------+---------------------+------------------+---------------+--------------------+\n",
            "\n"
          ],
          "name": "stdout"
        }
      ]
    },
    {
      "cell_type": "markdown",
      "metadata": {
        "id": "f0jAjZ5OHiB0",
        "colab_type": "text"
      },
      "source": [
        "persebaran data pada kolom"
      ]
    },
    {
      "cell_type": "code",
      "metadata": {
        "id": "Z44AmETgHjJy",
        "colab_type": "code",
        "colab": {}
      },
      "source": [
        "survey_age = survey.select('age')\n",
        "# fig, axes = plt.subplots()\n",
        "# fig.set_size_inches(5, 5)\n",
        "# hist(axes, survey_age, bins=20, color=\"red\")\n",
        "# plt.show()"
      ],
      "execution_count": 9,
      "outputs": []
    },
    {
      "cell_type": "code",
      "metadata": {
        "id": "JMRxZ13ZHw3_",
        "colab_type": "code",
        "colab": {
          "base_uri": "https://localhost:8080/",
          "height": 334
        },
        "outputId": "50e1e870-b5f3-480e-cf16-36949335eab4"
      },
      "source": [
        "survey_age = survey.select('age')\n",
        "\n",
        "fig, axes = plt.subplots()\n",
        "fig.set_size_inches(10, 5)\n",
        "hist(axes, survey_age, color=\"red\")\n",
        "plt.xlabel('Persebaran Usia Pasien (age)')\n",
        "plt.ylabel('Banyak')\n",
        "\n",
        "plt.show()"
      ],
      "execution_count": 10,
      "outputs": [
        {
          "output_type": "display_data",
          "data": {
            "image/png": "[encoded data removed]",
            "text/plain": [
              "<Figure size 720x360 with 1 Axes>"
            ]
          },
          "metadata": {
            "tags": [],
            "needs_background": "light"
          }
        }
      ]
    },
    {
      "cell_type": "markdown",
      "metadata": {
        "id": "7gSVEAvsIIxG",
        "colab_type": "text"
      },
      "source": [
        "dari data diatas bisa dilihat hasilnya rata-rata usia yang rentan terkena gangguan kesehatan mental yaitu 25-38"
      ]
    },
    {
      "cell_type": "markdown",
      "metadata": {
        "id": "fvaXPIvDIKrJ",
        "colab_type": "text"
      },
      "source": [
        "mengecek data null"
      ]
    },
    {
      "cell_type": "code",
      "metadata": {
        "id": "Du5lW8bpH_0s",
        "colab_type": "code",
        "colab": {
          "base_uri": "https://localhost:8080/",
          "height": 485
        },
        "outputId": "3bb1e43a-696a-42bc-8a69-747ef33f0732"
      },
      "source": [
        "table = ['timestamp', 'age', 'gender', 'country', 'state', 'self_employed', 'familyhistory', 'treatment', 'work_interfere', 'no_employees', 'remote_work', 'tech_company', 'benefits', 'care_options', 'wellness_program', 'seek_help', 'anonymity', 'leave', 'mental_health_consequence', 'phys_health_consequence', 'coworkers', 'supervisor', 'mental_health_interview', 'phys_health_interview', 'mental_vs_physical', 'obs_consequence', 'comments']\n",
        "\n",
        "for colom in table:\n",
        "  print('data yang bernilai null pada kolom ', colom, ' : ', survey.where(col(colom).isNull()).count())"
      ],
      "execution_count": 11,
      "outputs": [
        {
          "output_type": "stream",
          "text": [
            "data yang bernilai null pada kolom  timestamp  :  0\n",
            "data yang bernilai null pada kolom  age  :  0\n",
            "data yang bernilai null pada kolom  gender  :  0\n",
            "data yang bernilai null pada kolom  country  :  0\n",
            "data yang bernilai null pada kolom  state  :  0\n",
            "data yang bernilai null pada kolom  self_employed  :  0\n",
            "data yang bernilai null pada kolom  familyhistory  :  0\n",
            "data yang bernilai null pada kolom  treatment  :  0\n",
            "data yang bernilai null pada kolom  work_interfere  :  0\n",
            "data yang bernilai null pada kolom  no_employees  :  0\n",
            "data yang bernilai null pada kolom  remote_work  :  0\n",
            "data yang bernilai null pada kolom  tech_company  :  0\n",
            "data yang bernilai null pada kolom  benefits  :  0\n",
            "data yang bernilai null pada kolom  care_options  :  0\n",
            "data yang bernilai null pada kolom  wellness_program  :  0\n",
            "data yang bernilai null pada kolom  seek_help  :  0\n",
            "data yang bernilai null pada kolom  anonymity  :  0\n",
            "data yang bernilai null pada kolom  leave  :  0\n",
            "data yang bernilai null pada kolom  mental_health_consequence  :  0\n",
            "data yang bernilai null pada kolom  phys_health_consequence  :  0\n",
            "data yang bernilai null pada kolom  coworkers  :  0\n",
            "data yang bernilai null pada kolom  supervisor  :  0\n",
            "data yang bernilai null pada kolom  mental_health_interview  :  0\n",
            "data yang bernilai null pada kolom  phys_health_interview  :  0\n",
            "data yang bernilai null pada kolom  mental_vs_physical  :  0\n",
            "data yang bernilai null pada kolom  obs_consequence  :  0\n",
            "data yang bernilai null pada kolom  comments  :  0\n"
          ],
          "name": "stdout"
        }
      ]
    },
    {
      "cell_type": "markdown",
      "metadata": {
        "id": "P2xUl2N4It8I",
        "colab_type": "text"
      },
      "source": [
        "**5. PRE PROCESSING**"
      ]
    },
    {
      "cell_type": "code",
      "metadata": {
        "id": "rl05kgn1Iu0-",
        "colab_type": "code",
        "colab": {
          "base_uri": "https://localhost:8080/",
          "height": 295
        },
        "outputId": "3a15f64b-1e78-453d-ee7a-d303f296ee25"
      },
      "source": [
        "# menyeleksi data\n",
        "surveyDF = survey.select('age', 'familyhistory')\n",
        "\n",
        "# menampilkan 10 data teratas\n",
        "surveyDF.show(10)"
      ],
      "execution_count": 12,
      "outputs": [
        {
          "output_type": "stream",
          "text": [
            "+---+-------------+\n",
            "|age|familyhistory|\n",
            "+---+-------------+\n",
            "| 37|           No|\n",
            "| 44|           No|\n",
            "| 32|           No|\n",
            "| 31|          Yes|\n",
            "| 31|           No|\n",
            "| 33|          Yes|\n",
            "| 35|          Yes|\n",
            "| 39|           No|\n",
            "| 42|          Yes|\n",
            "| 23|           No|\n",
            "+---+-------------+\n",
            "only showing top 10 rows\n",
            "\n"
          ],
          "name": "stdout"
        }
      ]
    },
    {
      "cell_type": "markdown",
      "metadata": {
        "id": "IYZMWAFhJc1V",
        "colab_type": "text"
      },
      "source": [
        "**6. PEMROSESAN DATA**"
      ]
    },
    {
      "cell_type": "code",
      "metadata": {
        "id": "GPaRo--_JehN",
        "colab_type": "code",
        "colab": {
          "base_uri": "https://localhost:8080/",
          "height": 208
        },
        "outputId": "c2b35473-55f0-424d-da14-9b118ef5bc34"
      },
      "source": [
        "# pada pemrosesan data ini menggunakan transformasi dan action pada spark dataframe\n",
        "\n",
        "# seleksi data familyhistory\n",
        "survey_familyhistory = surveyDF.filter(surveyDF.familyhistory == 'yes')\n",
        "\n",
        "# hitung rata-rata usia pasien terkena gangguan kesehatan mental\n",
        "rata_rata_usia_pasien = surveyDF.groupBy('familyhistory').avg('age')\n",
        "\n",
        "# output\n",
        "print(\"Jumlah pasien   : \", survey_age.count())\n",
        "\n",
        "print('\\n')\n",
        "\n",
        "print('Perbandingan pasien terkena gangguan kesehatan mental')\n",
        "rata_rata_usia_pasien.show()\n",
        "\n",
        "# ambil data single value dari spark sql\n",
        "rata_usia_f = rata_rata_usia_pasien.collect()[0][1]\n",
        "rata_usia_m = rata_rata_usia_pasien.collect()[1][1]\n"
      ],
      "execution_count": 27,
      "outputs": [
        {
          "output_type": "stream",
          "text": [
            "Jumlah pasien   :  1259\n",
            "\n",
            "\n",
            "Perbandingan pasien terkena gangguan kesehatan mental\n",
            "+-------------+-----------------+\n",
            "|familyhistory|         avg(age)|\n",
            "+-------------+-----------------+\n",
            "|           No|31.94263363754889|\n",
            "|          Yes|32.10162601626016|\n",
            "+-------------+-----------------+\n",
            "\n"
          ],
          "name": "stdout"
        }
      ]
    },
    {
      "cell_type": "markdown",
      "metadata": {
        "id": "qm4uwnu3S1wM",
        "colab_type": "text"
      },
      "source": [
        "dari data diatas bisa dilihat hasilnya dari pasien yang terkena gangguan kesehatan mental itu memang lebih banyak dari pasien yang memiliki riwayat keluarga sebelumnya sehingga bisa turun pada keturunan selanjutnya"
      ]
    },
    {
      "cell_type": "markdown",
      "metadata": {
        "id": "LXb3V0RKQ7Uw",
        "colab_type": "text"
      },
      "source": [
        "**7. VISUALISASI DATA**"
      ]
    },
    {
      "cell_type": "code",
      "metadata": {
        "id": "pLlt3H7HQ8dv",
        "colab_type": "code",
        "colab": {
          "base_uri": "https://localhost:8080/",
          "height": 354
        },
        "outputId": "5a85bb80-b34f-4502-9516-05789a934d6e"
      },
      "source": [
        "# plotting data\n",
        "fig, axes = plt.subplots()\n",
        "\n",
        "# jumlah pasien gangguan kesehatan mental\n",
        "fig.set_size_inches(6, 5)\n",
        "\n",
        "plt.title('Perbandingan pasien')\n",
        "plt.pie([survey.count(), survey.count()], labels=['familyhistory', 'age'], autopct='%1.1f%%', shadow=True, startangle=40, colors=['#DEB887', 'brown'])\n",
        "print('\\n')"
      ],
      "execution_count": 34,
      "outputs": [
        {
          "output_type": "stream",
          "text": [
            "\n",
            "\n"
          ],
          "name": "stdout"
        },
        {
          "output_type": "display_data",
          "data": {
            "image/png": "[encoded data removed]",
            "text/plain": [
              "<Figure size 432x360 with 1 Axes>"
            ]
          },
          "metadata": {
            "tags": []
          }
        }
      ]
    },
    {
      "cell_type": "markdown",
      "metadata": {
        "id": "lShPbn4iuq1Q",
        "colab_type": "text"
      },
      "source": [
        "Jadi kesimpulannya usia yang rentan terkena gangguan kesehatan mental yaitu usia 25-38 dan yang memang mempunyai riwayat penyakit keluarga sebelumnya."
      ]
    }
  ]
}